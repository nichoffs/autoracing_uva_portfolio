{
 "cells": [
  {
   "cell_type": "code",
   "execution_count": 3,
   "metadata": {},
   "outputs": [],
   "source": [
    "from helpers import LongConv\n",
    "import torch"
   ]
  },
  {
   "cell_type": "code",
   "execution_count": 13,
   "metadata": {},
   "outputs": [
    {
     "name": "stdout",
     "output_type": "stream",
     "text": [
      "model(x).shape=torch.Size([16, 32, 2048]) model.num_kernels=7\n",
      "model.kernel_list[0].shape=torch.Size([5, 1, 32]) [kernel.shape for kernel in model.upscaled_kernels]=[torch.Size([5, 1, 32]), torch.Size([5, 1, 64]), torch.Size([5, 1, 128]), torch.Size([5, 1, 256]), torch.Size([5, 1, 512]), torch.Size([5, 1, 1024]), torch.Size([5, 1, 2048])]\n"
     ]
    }
   ],
   "source": [
    "batch_size = 16\n",
    "kernel_dim = 32\n",
    "seq_len = 2048\n",
    "in_chan = 1\n",
    "chan = 5\n",
    "out_chan = 32\n",
    "interp_factor = 2\n",
    "decay_coef = .5\n",
    "\n",
    "x = torch.randn((batch_size, in_chan, seq_len)) #(B,C,L)\n",
    "model = LongConv(kernel_dim, seq_len, in_chan, chan, out_chan, interp_factor, decay_coef)\n",
    "print(f'{model(x).shape=} {model.num_kernels=}')\n",
    "print(f'{model.kernel_list[0].shape=} {[kernel.shape for kernel in model.upscaled_kernels]=}')"
   ]
  },
  {
   "cell_type": "code",
   "execution_count": 11,
   "metadata": {},
   "outputs": [
    {
     "data": {
      "text/plain": [
       "torch.Size([5, 1, 2048])"
      ]
     },
     "execution_count": 11,
     "metadata": {},
     "output_type": "execute_result"
    }
   ],
   "source": []
  }
 ],
 "metadata": {
  "kernelspec": {
   "display_name": "venv",
   "language": "python",
   "name": "python3"
  },
  "language_info": {
   "codemirror_mode": {
    "name": "ipython",
    "version": 3
   },
   "file_extension": ".py",
   "mimetype": "text/x-python",
   "name": "python",
   "nbconvert_exporter": "python",
   "pygments_lexer": "ipython3",
   "version": "3.11.6"
  }
 },
 "nbformat": 4,
 "nbformat_minor": 2
}
